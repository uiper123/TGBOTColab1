{
 "cells": [
  {
   "cell_type": "markdown",
   "metadata": {
    "id": "header"
   },
   "source": [
    "# 🤖 Telegram Bot для обработки видео\n",
    "\n",
    "Этот блокнот запускает Telegram бота с поддержкой GPU для обработки видео.\n",
    "\n",
    "**Важно:** Убедитесь, что включен GPU в настройках Colab:\n",
    "- Меню → Среда выполнения → Сменить среду выполнения → Аппаратный ускоритель → GPU"
   ]
  },
  {
   "cell_type": "markdown",
   "metadata": {
    "id": "clone-header"
   },
   "source": [
    "## 📁 Шаг 1: Клонирование репозитория"
   ]
  },
  {
   "cell_type": "code",
   "execution_count": null,
   "metadata": {
    "id": "clone-repo"
   },
   "outputs": [],
   "source": [
    "import os\n",
    "import shutil\n",
    "\n",
    "repo_path = '/content/telegram-bot'\n",
    "repo_url = 'https://github.com/LeoSkln/telegram-bot-video-processing.git'\n",
    "\n",
    "# Удаляем папку если существует\n",
    "if os.path.exists(repo_path):\n",
    "    print(f'Удаляем существующую директорию: {repo_path}')\n",
    "    shutil.rmtree(repo_path)\n",
    "\n",
    "# Клонируем репозиторий\n",
    "print(f'Клонируем репозиторий из {repo_url}...')\n",
    "!git clone {repo_url} {repo_path}\n",
    "\n",
    "# Переходим в папку проекта\n",
    "os.chdir(repo_path)\n",
    "\n",
    "print(f'✅ Репозиторий клонирован в: {os.getcwd()}')\n",
    "print('\n",
    "📋 Файлы в проекте:')\n",
    "!ls -la"
   ]
  },
  {
   "cell_type": "markdown",
   "metadata": {
    "id": "setup-header"
   },
   "source": [
    "## 📦 Шаг 2: Установка зависимостей"
   ]
  },
  {
   "cell_type": "code",
   "execution_count": null,
   "metadata": {
    "id": "install-system-deps"
   },
   "outputs": [],
   "source": [
    "# Установка системных зависимостей (ffmpeg)\n",
    "print('Обновляем пакеты и устанавливаем ffmpeg...')\n",
    "!apt-get update -qq\n",
    "!apt-get install -y ffmpeg\n",
    "print('✅ ffmpeg установлен!')"
   ]
  },
  {
   "cell_type": "code",
   "execution_count": null,
   "metadata": {
    "id": "install-python-gpu-deps"
   },
   "outputs": [],
   "source": [
    "# Устанавливаем PyTorch с CUDA поддержкой для GPU ускорения\n",
    "print('\\n🎮 Устанавливаем PyTorch с CUDA для GPU ускорения...')\n",
    "!pip install torch torchvision torchaudio --index-url https://download.pytorch.org/whl/cu118 -q\n",
    "print('✅ PyTorch для GPU установлен!')"
   ]
  },
  {
   "cell_type": "code",
   "execution_count": null,
   "metadata": {
    "id": "install-python-reqs"
   },
   "outputs": [],
   "source": [
    "# Устанавливаем остальные зависимости из requirements.txt\n",
    "print('\n",
    "🐍 Устанавливаем зависимости из requirements.txt...')\n",
    "!pip install --upgrade pip -q\n",
    "!pip install -r requirements.txt -q\n",
    "\n",
    "# Обновляем yt-dlp до самой последней версии\n",
    "print('\\n📦 Обновляем yt-dlp до последней версии...')\n",
    "!pip install --upgrade --force-reinstall yt-dlp -q\n",
    "print('✅ Все зависимости установлены и обновлены!')"
   ]
  },
  {
   "cell_type": "code",
   "execution_count": null,
   "metadata": {
    "id": "check-deps"
   },
   "outputs": [],
   "source": [
    "# Проверяем GPU и ffmpeg\n",
    "import nest_asyncio\n",
    "nest_asyncio.apply()\n",
    "\n",
    "print('='*50)\n",
    "print('🔍 ПРОВЕРКА ОКРУЖЕНИЯ')\n",
    "print('='*50)\n",
    "\n",
    "print('\\n🎮 Проверяем GPU поддержку:')\n",
    "try:\n",
    "    import torch\n",
    "    if torch.cuda.is_available():\n",
    "        gpu_name = torch.cuda.get_device_name(0)\n",
    "        print(f'✅ GPU доступен: {gpu_name}')\n",
    "    else:\n",
    "        print('❌ GPU недоступен, будет использоваться CPU')\n",
    "except ImportError:\n",
    "    print('❌ PyTorch не установлен')\n",
    "\n",
    "print('\n",
    "ffmpeg версия:')\n",
    "!ffmpeg -version\n",
    "\n",
    "print('\n",
    "✅ Проверка окружения завершена!')"
   ]
  },
  {
   "cell_type": "markdown",
   "metadata": {
    "id": "config-header"
   },
   "source": [
    "## ⚙️ Шаг 3: Настройка секретов\n",
    "\n",
    "Для безопасной работы бота, пожалуйста, добавьте ваши токены как секреты в Google Colab.\n",
    "\n",
    "1.  Нажмите на иконку **ключа (🔑)** на левой панели.\n",
    "2.  Нажмите **+ Добавить новый секрет**.\n",
    "3.  Создайте два секрета:\n",
    "    - **`TELEGRAM_BOT_TOKEN`**: вставьте сюда токен вашего Telegram бота.\n",
    "    - **`GOOGLE_OAUTH_TOKEN_BASE64`**: вставьте сюда ваш Google OAuth токен в формате Base64.\n",
    "4.  Убедитесь, что переключатель **'Доступно в этом блокноте'** включен для обоих секретов."
   ]
  },
  {
   "cell_type": "code",
   "execution_count": null,
   "metadata": {
    "id": "setup-env"
   },
   "outputs": [],
   "source": [
    "# Настройка переменных окружения из секретов Colab\n",
    "import os\n",
    "from google.colab import userdata\n",
    "\n",
    "try:\n",
    "    TELEGRAM_TOKEN = userdata.get('TELEGRAM_BOT_TOKEN')\n",
    "    GOOGLE_TOKEN = userdata.get('GOOGLE_OAUTH_TOKEN_BASE64')\n",
    "    \n",
    "    if not TELEGRAM_TOKEN or not GOOGLE_TOKEN:\n",
    "        raise ValueError('Не удалось получить секреты. Убедитесь, что вы их добавили.')\n",
    "        \n",
    "    os.environ['TELEGRAM_BOT_TOKEN'] = TELEGRAM_TOKEN\n",
    "    os.environ['GOOGLE_OAUTH_TOKEN_BASE64'] = GOOGLE_TOKEN\n",
    "    \n",
    "    # Создаем .env файл для совместимости с кодом бота\n",
    "    env_content = f'''TELEGRAM_BOT_TOKEN={TELEGRAM_TOKEN}\n",
    "GOOGLE_OAUTH_TOKEN_BASE64={GOOGLE_TOKEN}\n",
    "'''\n",
    "    \n",
    "    with open('.env', 'w') as f:\n",
    "        f.write(env_content)\n",
    "    \n",
    "    print('✅ Переменные окружения настроены!')\n",
    "    print('📄 Создан файл .env')\n",
    "\n",
    "except Exception as e:\n",
    "    print(f'❌ ОШИБКА: {e}')\n",
    "    print('Пожалуйста, убедитесь, что вы правильно настроили секреты на предыдущем шаге.')"
   ]
  },
  {
   "cell_type": "markdown",
   "metadata": {
    "id": "cookies-header"
   },
   "source": [
    "## 🍪 Шаг 4: Загрузка cookies (опционально)\n",
    "\n",
    "Для безопасной работы бота, пожалуйста, добавьте ваши токены как секреты в Google Colab.\n",
    "\n",
    "1.  Нажмите на иконку **ключа (🔑)** на левой панели.\n",
    "2.  Нажмите **+ Добавить новый секрет**.\n",
    "3.  Создайте два секрета:\n",
    "    - **`TELEGRAM_BOT_TOKEN`**: вставьте сюда токен вашего Telegram бота.\n",
    "    - **`GOOGLE_OAUTH_TOKEN_BASE64`**: вставьте сюда ваш Google OAuth токен в формате Base64.\n",
    "4.  Убедитесь, что переключатель **'Доступно в этом блокноте'** включен для обоих секретов."
   ]
  },
  {
   "cell_type": "code",
   "execution_count": null,
   "metadata": {
    "id": "upload-cookies"
   },
   "outputs": [],
   "source": [
    "# Загрузка cookies файла для yt-dlp\n",
    "from google.colab import files\n",
    "import os\n",
    "\n",
    "print('🍪 Загрузите ваш cookies.txt файл для YouTube:')\n",
    "print('ℹ️ Этот файл нужен для скачивания приватных или возрастных видео.')\n",
    "print('ℹ️ Если у вас нет cookies файла, просто отмените загрузку.')\n",
    "\n",
    "try:\n",
    "    uploaded = files.upload()\n",
    "    \n",
    "    cookies_file = None\n",
    "    for filename in uploaded.keys():\n",
    "        if 'cookies' in filename.lower() or filename.endswith('.txt'):\n",
    "            cookies_file = filename\n",
    "            break\n",
    "    \n",
    "    if cookies_file:\n",
    "        # Переименовываем в стандартное имя\n",
    "        if cookies_file != 'cookies.txt':\n",
    "            os.rename(cookies_file, 'cookies.txt')\n",
    "        \n",
    "        print(f'✅ Cookies файл загружен: cookies.txt')\n",
    "        \n",
    "        # Добавляем путь к cookies в .env файл\n",
    "        cookies_path = os.path.join(os.getcwd(), 'cookies.txt')\n",
    "        with open('.env', 'a') as f:\n",
    "            f.write(f'\n",
    "COOKIES_FILE={cookies_path}\n",
    "')\n",
    "        \n",
    "        print('📄 Путь к cookies добавлен в .env')\n",
    "    else:\n",
    "        print('⚠️ Cookies файл не найден среди загруженных. Бот будет работать без них.')\n",
    "        \n",
    "except Exception as e:\n",
    "    if 'aborted' in str(e):\n",
    "        print('ℹ️ Загрузка отменена. Бот будет работать без cookies.')\n",
    "    else:\n",
    "        print(f'⚠️ Ошибка при загрузке cookies: {e}')"
   ]
  },
  {
   "cell_type": "markdown",
   "metadata": {
    "id": "run-header"
   },
   "source": [
    "## 🚀 Шаг 5: Запуск бота"
   ]
  },
  {
   "cell_type": "code",
   "execution_count": null,
   "metadata": {
    "id": "run-bot"
   },
   "outputs": [],
   "source": [
    "# Запуск бота\n",
    "import os\n",
    "\n",
    "print('🤖 Запускаем Telegram бота...')\n",
    "print(f'📍 Текущая директория: {os.getcwd()}')\n",
    "\n",
    "try:\n",
    "    # Запускаем основной файл бота\n",
    "    if os.path.exists('run_bot.py'):\n",
    "        print('🔄 Запускаем через run_bot.py')\n",
    "        !python run_bot.py\n",
    "    elif os.path.exists('bot.py'):\n",
    "        print('🔄 Запускаем bot.py напрямую')\n",
    "        !python bot.py\n",
    "    else:\n",
    "        print('❌ Не найден файл бота для запуска (run_bot.py или bot.py)')\n",
    "        \n",
    "except KeyboardInterrupt:\n",
    "    print('\n",
    "⏹️ Бот остановлен пользователем.')"
   ]
  },
  {
   "cell_type": "markdown",
   "metadata": {
    "id": "logs-header"
   },
   "source": [
    "## 📊 Просмотр логов (опционально)\n",
    "\n",
    "Вы можете запустить эту ячейку, чтобы посмотреть последние логи работы бота."
   ]
  },
  {
   "cell_type": "code",
   "execution_count": null,
   "metadata": {
    "id": "view-logs"
   },
   "outputs": [],
   "source": [
    "# Просмотр логов бота\n",
    "import os\n",
    "\n",
    "if os.path.exists('bot.log'):\n",
    "    print('📋 Последние 50 строк из bot.log:')\n",
    "    !tail -50 bot.log\n",
    "else:\n",
    "    print('📋 Файл логов bot.log не найден.') "
   ]
  }
 ],
 "metadata": {
  "accelerator": "GPU",
  "colab": {
   "gpuType": "T4",
   "provenance": []
  },
  "kernelspec": {
   "display_name": "Python 3",
   "name": "python3"
  },
  "language_info": {
   "name": "python"
  }
 },
 "nbformat": 4,
 "nbformat_minor": 0
}
